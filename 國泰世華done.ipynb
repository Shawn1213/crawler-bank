{
 "cells": [
  {
   "cell_type": "code",
   "execution_count": null,
   "metadata": {
    "collapsed": true
   },
   "outputs": [],
   "source": [
    "import requests\n",
    "from bs4 import BeautifulSoup\n",
    "\n",
    "url = 'https://www.cathaybk.com.tw/cathaybk/card/mybill/qa.asp'       #國泰世華MyBill(已完成在最下面)\n",
    "res = requests.get(url)\n",
    "soup = BeautifulSoup(res.text)\n",
    "K=0\n",
    "for i in range(2,16):\n",
    "    ul = soup.select('#sidebar{}'.format(i))      #id不能用navigation,有分大小寫\n",
    "    #print ul\n",
    "    K=K+1\n",
    "    print K\n",
    "    print ul[0].text\n",
    "    "
   ]
  },
  {
   "cell_type": "code",
   "execution_count": null,
   "metadata": {
    "collapsed": true
   },
   "outputs": [],
   "source": [
    "import requests\n",
    "from bs4 import BeautifulSoup\n",
    "import re\n",
    "\n",
    "url = 'https://www.cathaybk.com.tw/cathaybk/card/masterpass/index.aspx'      #國泰世華MasterPass\n",
    "res = requests.get(url)\n",
    "soup =BeautifulSoup(res.text)\n",
    "print soup.text"
   ]
  },
  {
   "cell_type": "code",
   "execution_count": 2,
   "metadata": {
    "collapsed": false
   },
   "outputs": [
    {
     "name": "stdout",
     "output_type": "stream",
     "text": [
      "{\n",
      "  \"Q\": \"什麼是國泰世華MasterPass™?\", \n",
      "  \"A\": \"國泰世華MasterPass™電子錢包，可安全地儲存您綁定的信用卡資料與配送地址，從此省略每次網購皆需重複輸入信用卡與配送地址的惱人困擾。另外，您在全世界的購物網站中，只要於結帳時看到MasterPass™的標誌（點選MasterPass圖示MasterPass圖示），您就可以使用國泰世華MasterPass™電子錢包的快速付款服務，讓您網購全球、體驗無限！1.超級快速：對於每次網購都要輸入信用卡卡號跟配送地址，感到眉頭一皺嗎。笑一個！使用國泰世華MasterPass™電子錢包，只要第一次註冊時綁定您的國泰世華銀行的信用卡資料與配送地址，之後於網路購物結帳時，即可直接點選MasterPass圖示您先前所綁定的信用卡資料與配送地址，一指搞定。2.超級彈性：除了國內快速購物之外，想直接在外國網站購物並配送到指定地點＊嗎。沒問題！使用國泰世華MasterPass™電子錢包，除了可儲存您所有目前使用的國泰世華信用卡資料，還可儲存您國內、國外共25組的配送地址，全球購物與配送，近在您的指間。＊限您選擇的網路店家可支援的配送地址。3.超級安全：還在煩惱您的信用卡資料與個資外洩嗎。請安心！使用國泰世華MasterPass™電子錢包，您所綁定的信用卡資料與配送地址，皆會安全地儲存在國泰世華銀行的資料庫，並於購物結帳送出信用卡與配送地址資料前，以OTP（一次性密碼）的方式向您再次驗證此筆交易，從此不用再擔心駭客藉由雲端、木馬程式或惡意侵入的方式竊取您的寶貴資料，讓您購物高枕無憂。\", \n",
      "  \"class\": \"creditcard\", \n",
      "  \"bank\": \"cathaybk\"\n",
      "}\n",
      "{\n",
      "  \"Q\": \"如何使用國泰世華MasterPass™?\", \n",
      "  \"A\": \"1.當您已註冊國泰世華MasterPass™電子錢包並綁定信用卡與配送地址後，只要於網站購物結帳時，點選MasterPass圖示。2.點選MasterPass圖示「國泰世華銀行」。（您僅需於第一次時點選MasterPass圖示）3.於國泰世華MasterPass™電子錢包登入頁面，輸入您的登入帳號與密碼。4.最後，確認您所選定的信用卡資料與配送地址，並輸入OTP驗證碼（屆時將由國泰世華銀行發送驗證碼至您註冊時輸入的手機號碼）後，點選MasterPass圖示確認即可。\", \n",
      "  \"class\": \"creditcard\", \n",
      "  \"bank\": \"cathaybk\"\n",
      "}\n",
      "{\n",
      "  \"Q\": \"哪裡可以使用國泰世華MasterPass™?\", \n",
      "  \"A\": \"除了MOMO購物網、17Life團購網、雄獅旅遊、OB嚴選等國內知名網站外，全球尚有超過25萬家MasterPass™合作特店，讓您隨時隨地享受更方便、更快速、更安全的網購體驗。\", \n",
      "  \"class\": \"creditcard\", \n",
      "  \"bank\": \"cathaybk\"\n",
      "}\n",
      "{\n",
      "  \"Q\": \"什麼是國泰世華MasterPass™?\", \n",
      "  \"A\": \" 國泰世華MasterPass™是國泰世華銀行提供的一個數位錢包服務，讓您在網購時更安全、輕鬆、方便。國泰世華銀行MasterPass™將所有您的付款和運送訊息安全地存放於國泰世華伺服器中。透過國泰世華MasterPass™，您可在網購時更快速地購物及結帳。\", \n",
      "  \"class\": \"creditcard\", \n",
      "  \"bank\": \"cathaybk\"\n",
      "}\n",
      "{\n",
      "  \"Q\": \"我可以用什麼卡來使用國泰世華MasterPass™?\", \n",
      "  \"A\": \" 您可以綁定您目前使用本行的MasterCard、Visa、JCB所有信用卡。\", \n",
      "  \"class\": \"creditcard\", \n",
      "  \"bank\": \"cathaybk\"\n",
      "}\n",
      "{\n",
      "  \"Q\": \"我如何使用國泰世華MasterPass™買東西?\", \n",
      "  \"A\": \" 當您購物完畢且準備結帳時，點擊結帳按鈕，選擇國泰世華MasterPass™電子錢包。結帳的同時需要登入國泰世華MasterPass™系統，登入後，您可以從您先前綁定的信用卡中，選擇要使用的信用卡與配送地址。如果您想使用尚未添加的信用卡或送貨地址，只需點擊新增選項即可。一旦您點選MasterPass圖示完欲結帳使用的信用卡卡片資料與配送地址，您可以在完成結帳前，再次查看您的訂單做確認。\", \n",
      "  \"class\": \"creditcard\", \n",
      "  \"bank\": \"cathaybk\"\n",
      "}\n",
      "{\n",
      "  \"Q\": \"使用國泰世華MasterPass™安全嗎?\", \n",
      "  \"A\": \" 當然。我們的首要任務就是確保您個人資訊的安全，安全的伺服器建立和維護就是為了做到這一點。提示：在您結帳時，國泰世華銀行將另增手機驗證來添加一層額外的安全保護。當您在電腦上確認您欲使用的支付卡片和送貨地址後，準備結帳前，我們會發送一個4位數字的驗證碼到您的手機，輸入此一次性使用的驗證碼（OTP，One-Time-Password）即完成支付！\", \n",
      "  \"class\": \"creditcard\", \n",
      "  \"bank\": \"cathaybk\"\n",
      "}\n",
      "{\n",
      "  \"Q\": \"我需要付費才能使用國泰世華MasterPass™?\", \n",
      "  \"A\": \" 不需要，使用國泰世華MasterPass™不需各項費用。請留意，如果您曾經選擇接收有關您的帳戶的簡訊通知，您可能需負擔電信商的簡訊費用。\", \n",
      "  \"class\": \"creditcard\", \n",
      "  \"bank\": \"cathaybk\"\n",
      "}\n",
      "{\n",
      "  \"Q\": \"我如何聯繫國泰世華MasterPass™服務協助?\", \n",
      "  \"A\": \" 如果您無法從我們支援的解答您的問題，需要進一步的幫助，請聯繫國泰世華MasterPass™支援服務，透過撥打本行客服(02)2383-1000尋求協助。\", \n",
      "  \"class\": \"creditcard\", \n",
      "  \"bank\": \"cathaybk\"\n",
      "}\n",
      "{\n",
      "  \"Q\": \"我要如何註冊國泰世華MasterPass™?\", \n",
      "  \"A\": \" 註冊國泰世華MasterPass™方便且快速。首先，進入國泰世華MasterPass™首頁，點擊”免費註冊”，您將被指示設定您的帳戶資料及綁定信用卡與配送地址資料。在完成註冊後，您會收到自本行的電子郵件，透過一個安全的網址來完成你的錢包註冊。\", \n",
      "  \"class\": \"creditcard\", \n",
      "  \"bank\": \"cathaybk\"\n",
      "}\n",
      "{\n",
      "  \"Q\": \"國泰世華MasterPass™對於行動裝置及瀏覽器支援的程度?\", \n",
      "  \"A\": \" 國泰世華MasterPass™適用於現代網路及行動裝置瀏覽器，包括Chrome瀏覽器，Safari和InternetExplorer8+。平板電腦和行動裝置iOS6+或Android移動設備也支援。\", \n",
      "  \"class\": \"creditcard\", \n",
      "  \"bank\": \"cathaybk\"\n",
      "}\n",
      "{\n",
      "  \"Q\": \"如何將我的國泰世華MasterPass™帳號與商家進行配對?\", \n",
      "  \"A\": \" 當您在全球MasterPass™網路特約商店結帳時，若該商家有支援配對功能，則於結帳流程將自動顯示配對頁面，點選MasterPass圖示同意後即可將您的國泰世華MasterPass™帳號與商家完成配對。\", \n",
      "  \"class\": \"creditcard\", \n",
      "  \"bank\": \"cathaybk\"\n",
      "}\n",
      "{\n",
      "  \"Q\": \"配對後如何進行更快速的交易?\", \n",
      "  \"A\": \" 當您與商家完成配對後，未來於此商家進行結帳時，商家的付款頁面將會預先顯示您常用的付款資料（如信用卡號末四碼、運送地址等），此時您只要點擊按鈕，並登入國泰世華MasterPass™電子錢包後，即可完成付款。\", \n",
      "  \"class\": \"creditcard\", \n",
      "  \"bank\": \"cathaybk\"\n",
      "}\n",
      "{\n",
      "  \"Q\": \"如何查詢配對紀錄或解除商家配對?\", \n",
      "  \"A\": \" 從國泰世華MasterPass™官方網站登入後，您可從【偏好設定－商家配對管理】專區檢視您與商家的配對紀錄。若您要解除與某商家的配對，直接點選MasterPass圖示該商家的LOGO或名稱，並依序點擊解除配對、確認及儲存後，即可完成解除配對。\", \n",
      "  \"class\": \"creditcard\", \n",
      "  \"bank\": \"cathaybk\"\n",
      "}\n"
     ]
    }
   ],
   "source": [
    "import requests\n",
    "from bs4 import BeautifulSoup\n",
    "import re\n",
    "import json\n",
    "import codecs\n",
    "\n",
    "url = 'https://www.cathaybk.com.tw/cathaybk/card/masterpass/index.aspx'      #國泰世華MasterPass----共14題(json存檔完成)\n",
    "res = requests.get(url)\n",
    "soup =BeautifulSoup(res.text)\n",
    "div = soup.select('.st-accordion li')\n",
    "Q = []\n",
    "A = []\n",
    "for target in div:\n",
    "    Target = target.text.encode('utf-8')    #轉字串\n",
    "    clean = '\\n'.join(Target.split()).replace('Open\\nor\\nClose','').replace('常見問題','').replace('出現\\n按鈕','點選MasterPass圖示')\\\n",
    "    .replace('點我看更多國內店家','').replace('點我看更多海外店家','').replace('？','?').replace('\\xba\\xe5\\x97\\x8e?','\\xba\\xe5\\x97\\x8e。')\\\n",
    "    .replace('\\x8a\\xe5\\x97\\x8e?','\\x8a\\xe5\\x97\\x8e。').replace('\\xa9\\xe5\\x97\\x8e?','\\xa9\\xe5\\x97\\x8e。').replace('Q.','')\\\n",
    "    .replace('點選','點選MasterPass圖示').replace('17\\nLife','17Life').replace('Explorer8\\n+','Explorer8+').replace('iOS\\n6+','iOS6+')\\\n",
    "    .replace('Internet\\n','Internet').replace('\\n2.\\n','2.').replace('\\n3.\\n','3.').replace('\\n4.\\n','4.')\\\n",
    "    .replace('\\n\\xe6\\x8f\\x90\\xe7\\xa4\\xba\\xef\\xbc\\x9a','\\xe6\\x8f\\x90\\xe7\\xa4\\xba\\xef\\xbc\\x9a')\\\n",
    "    .replace('\\xe6\\x96\\xb9\\xe4\\xbe\\xbf\\xe3\\x80\\x82\\n','\\xe6\\x96\\xb9\\xe4\\xbe\\xbf\\xe3\\x80\\x82')\\\n",
    "    .replace('\\n\\xe7\\xb5\\x90\\xe5\\xb8\\xb3\\xe6\\x8c\\x89\\xe9\\x88\\x95','\\xe7\\xb5\\x90\\xe5\\xb8\\xb3\\xe6\\x8c\\x89\\xe9\\x88\\x95')\\\n",
    "    .replace('\\n1.','1.').replace('\\n2.','2.').replace('\\n3.','3.').replace('\\n4.','4.').replace('1.\\n當您已註冊','\\n1.當您已註冊')\\\n",
    "    .replace('\\x81\\xb8MasterPass\\xe5\\x9c\\x96\\xe7\\xa4\\xba\\n','\\x81\\xb8MasterPass\\xe5\\x9c\\x96\\xe7\\xa4\\xba')\n",
    "#    print clean\n",
    "#    print repr(clean)\n",
    "    qClean = re.findall('(.*)\\?',clean)\n",
    "    for question in qClean:\n",
    "        Ques = question+'?'\n",
    "        Q.append(Ques)\n",
    "    aClean = re.findall('\\?\\n(.*)',clean)\n",
    "    for answer in aClean:\n",
    "        Ans = ''.join(answer.split()).strip()\n",
    "        A.append(Ans)\n",
    "\n",
    "j=1\n",
    "for all_q, all_a in zip(Q,A):\n",
    "#    print all_q, all_a\n",
    "    y = {'bank':'cathaybk','class':'creditcard','Q':all_q,'A':all_a} #json格式\n",
    "        #key統一為bank:value自取  key統一為class:value統一請參考EXCEL  \n",
    "        #銀行名稱統一小寫英文，取完之後打在EXCEL上\n",
    "    \n",
    "    json_qa = json.dumps(y,ensure_ascii=False,indent=2) #轉檔轉碼  \n",
    "    print json_qa   #print檢查一下\n",
    "                                                         \n",
    "    with codecs.open('C:/Users/vitacake/Desktop/cathay/creditcard/cathaybk_creditcard_{}.json'.format(j),'wb') as fout: \n",
    "        json.dump(y , fout)  #寫入檔案，並關檔\n",
    "    j += 1\n",
    "    "
   ]
  },
  {
   "cell_type": "code",
   "execution_count": 71,
   "metadata": {
    "collapsed": false
   },
   "outputs": [
    {
     "name": "stdout",
     "output_type": "stream",
     "text": [
      "'\\xe9\\xbb\\x9e\\xe9\\x81\\xb8MasterPass\\xe5\\x9c\\x96\\xe7\\xa4\\xba'\n"
     ]
    }
   ],
   "source": [
    "a = '點選MasterPass圖示'\n",
    "print repr(a)"
   ]
  },
  {
   "cell_type": "code",
   "execution_count": null,
   "metadata": {
    "collapsed": true
   },
   "outputs": [],
   "source": [
    "    #print type(Target)\n",
    "    #print ''.join(Target.split('Open or Close'))\n",
    "    a = '常見問題'.decode('utf-8')\n",
    "    b = '點選  '.decode('utf-8')\n",
    "    c = '點選MasterPass™圖示'.decode('utf-8')\n",
    "    d = '點我看'.decode('utf-8')\n",
    "        if('?' or a in Target):\n",
    "            question = ''.join(Target.split('Open or Close'))\n",
    "#        print type(question)\n",
    "#       print question\n",
    "        if(b in question):\n",
    "            middle = c.join(question.split(b))\n",
    "            Middle = ''.join(middle.split())\n",
    "            print Middle\n",
    "        elif(d in question):\n",
    "            print question.replace('點我看更多國內店家'.decode('utf-8'),'').replace('點我看更多海外店家'.decode('utf-8'),'')\n",
    "            \n",
    "        else:\n",
    "            content = question.replace(' 常見問題'.decode('utf-8'),'')\n",
    "            Content = ''.join(content.split())\n",
    "            print Content\n",
    "            #print repr(question)"
   ]
  },
  {
   "cell_type": "code",
   "execution_count": 3,
   "metadata": {
    "collapsed": false
   },
   "outputs": [
    {
     "name": "stdout",
     "output_type": "stream",
     "text": [
      "{\n",
      "  \"Q\": \"什麼是 My MobiBank？\", \n",
      "  \"A\": \"MyMobiBank是國泰世華銀行專為智慧型手機(iPhone與Android)開發之新一代行動銀行服務，用戶先至AppStore或Googleplay安裝手機軟體(App)即可使用。\", \n",
      "  \"class\": \"complex\", \n",
      "  \"bank\": \"cathaybk\"\n",
      "}\n",
      "{\n",
      "  \"Q\": \"My MobiBank與網路銀行MyBank有什麼不同？\", \n",
      "  \"A\": \"下表為兩者之比較：itemMyMobiBankMyBank適合設備智慧型手機(iPhone與Android)個人電腦(PC)功能項目以常用功能為主功能較完整登入方式用戶代號及理財密碼(同MyBank)用戶代號及理財密碼安全等級使用https連線(同MyBank)使用https連線\", \n",
      "  \"class\": \"complex\", \n",
      "  \"bank\": \"cathaybk\"\n",
      "}\n",
      "{\n",
      "  \"Q\": \"使用My MobiBank需要付費嗎？\", \n",
      "  \"A\": \"使用MyMobiBank軟體是免費的，但是下載軟體及查詢本行資訊需要手機上網連線，電信業者將收取手機上網傳輸費。費率根據您申請的上網方案而有所不同。若使用頻率較高，建議您可申請3G無限上網方案（俗稱上網吃到飽）。\", \n",
      "  \"class\": \"complex\", \n",
      "  \"bank\": \"cathaybk\"\n",
      "}\n",
      "{\n",
      "  \"Q\": \"使用My MobiBank安全嗎？\", \n",
      "  \"A\": \"透過MyMobiBank查詢個人帳戶資料時，安全等級比照網路銀行MyBank採用SSL加密(即https)，請放心使用。貼心小叮嚀：請避免將個人用戶代號及密碼記憶在手機中，以保障您個人帳戶的安全！\", \n",
      "  \"class\": \"complex\", \n",
      "  \"bank\": \"cathaybk\"\n",
      "}\n",
      "{\n",
      "  \"Q\": \"為什麼有時候My MobiBank顯示資料需要等待一段時間？\", \n",
      "  \"A\": \"由於使用MyMobiBank服務需透過手機上網，而手機的上網速度將影響資料載入的時間。若網路環境不理想，MyMobiBank顯示資料就會比較慢。建議使用MyMobiBank時，盡量保持在上網速度良好的環境中使用。\", \n",
      "  \"class\": \"complex\", \n",
      "  \"bank\": \"cathaybk\"\n",
      "}\n"
     ]
    }
   ],
   "source": [
    "import requests\n",
    "from bs4 import BeautifulSoup\n",
    "\n",
    "url = 'https://www.cathayholdings.com/bank/cathaybk/mmb/qa.asp'        #國泰世華MobiBank(共5題)----第三題為表格(json存檔完成)\n",
    "res = requests.get(url)\n",
    "#res.encoding = 'latin'\n",
    "soup = BeautifulSoup(res.text)\n",
    "article = soup.select('.content')\n",
    "Q = []\n",
    "A = []\n",
    "for Article in article:\n",
    "    for question in Article.select('h4'):\n",
    "        Question = question.text.encode('latin')\n",
    "        Q.append(Question)\n",
    "    for answer in Article.select('.box'):\n",
    "        Answer = answer.text.encode('latin')\n",
    "        ANS = ''.join(Answer.split()).replace('\\xa0MyMobiBank','itemMyMobiBank')\n",
    "        A.append(ANS)\n",
    "        #print ANS\n",
    "        #print repr(ANS)\n",
    "j=1    \n",
    "for all_q,all_a in zip(Q,A):\n",
    "#    print all_q,all_a\n",
    "    \n",
    "    y = {'bank':'cathaybk','class':'complex','Q':all_q,'A':all_a} #json格式\n",
    "        #key統一為bank:value自取  key統一為class:value統一請參考EXCEL  \n",
    "        #銀行名稱統一小寫英文，取完之後打在EXCEL上\n",
    "    \n",
    "    json_qa = json.dumps(y,ensure_ascii=False,indent=2) #轉檔轉碼  \n",
    "    print json_qa   #print檢查一下\n",
    "                                                         \n",
    "    with codecs.open('C:/Users/vitacake/Desktop/cathay/complex/cathaybk_complex_{}.json'.format(j),'wb') as fout: \n",
    "        json.dump(y , fout)  #寫入檔案，並關檔\n",
    "    j += 1"
   ]
  },
  {
   "cell_type": "code",
   "execution_count": 124,
   "metadata": {
    "collapsed": false
   },
   "outputs": [
    {
     "name": "stdout",
     "output_type": "stream",
     "text": [
      "用卡須知\n",
      "購買商品或服務應注意事項（含自行交易）\n",
      "關於循環信用\n",
      "調整信用額度\n",
      "卡片保管及掛失\n",
      "疑問帳款處理\n",
      "申請清償證明\n",
      "簽帳注意事項\n",
      "特殊簽帳方式交易\n",
      "繳款方式\n",
      "超商補印繳款單\n",
      "各項費用說明\n"
     ]
    }
   ],
   "source": [
    "import requests\n",
    "from bs4 import BeautifulSoup\n",
    "\n",
    "for i in range(1,13):\n",
    "    url = 'https://www.cathaybk.com.tw/cathaybk/card/card/notice/notice_{}'.format(i) + '.asp'\n",
    "#    print url\n",
    "    res = requests.get(url)\n",
    "    res.encoding = 'big5'   #對整個內容進行編碼\n",
    "    soup = BeautifulSoup(res.text)\n",
    "    #print soup\n",
    "    target = soup.select('div .t15_org_b')[0]\n",
    "    print target.text\n",
    "#    for Target in target:\n",
    "#        print Target"
   ]
  },
  {
   "cell_type": "code",
   "execution_count": 35,
   "metadata": {
    "collapsed": false
   },
   "outputs": [
    {
     "name": "stdout",
     "output_type": "stream",
     "text": [
      "https://www.cathaybk.com.tw/cathaybk/card/card/notice/notice_1.asp\n",
      "https://www.cathaybk.com.tw/cathaybk/card/card/notice/notice_8.asp\n",
      "https://www.cathaybk.com.tw/cathaybk/card/card/notice/notice_2.asp\n",
      "https://www.cathaybk.com.tw/cathaybk/card/card/notice/notice_5.asp\n",
      "https://www.cathaybk.com.tw/cathaybk/card/card/notice/notice_4.asp\n",
      "https://www.cathaybk.com.tw/cathaybk/card/card/notice/notice_3.asp\n",
      "https://www.cathaybk.com.tw/cathaybk/card/card/notice/notice_10.asp\n",
      "https://www.cathaybk.com.tw/cathaybk/card/card/notice/notice_11.asp\n",
      "https://www.cathaybk.com.tw/cathaybk/card/card/notice/notice_6.asp\n",
      "https://www.cathaybk.com.tw/cathaybk/card/card/notice/notice_7.asp\n",
      "https://www.cathaybk.com.tw/cathaybk/card/card/notice/notice_12.asp\n"
     ]
    }
   ],
   "source": [
    "import re\n",
    "target = re.findall('\\<option value\\=\\\"(.*)\\\"\\>', res.text)\n",
    "#print type(target)\n",
    "for Target in target[41:]:\n",
    "    urls = 'https://www.cathaybk.com.tw/cathaybk/card/card/notice/'+Target"
   ]
  },
  {
   "cell_type": "code",
   "execution_count": 20,
   "metadata": {
    "collapsed": false
   },
   "outputs": [
    {
     "ename": "IndentationError",
     "evalue": "expected an indented block (<ipython-input-20-583b62bc9de6>, line 12)",
     "output_type": "error",
     "traceback": [
      "\u001b[1;36m  File \u001b[1;32m\"<ipython-input-20-583b62bc9de6>\"\u001b[1;36m, line \u001b[1;32m12\u001b[0m\n\u001b[1;33m    for target2 in soup.select('div p'):\u001b[0m\n\u001b[1;37m      ^\u001b[0m\n\u001b[1;31mIndentationError\u001b[0m\u001b[1;31m:\u001b[0m expected an indented block\n"
     ]
    }
   ],
   "source": [
    "import requests\n",
    "from bs4 import BeautifulSoup\n",
    "\n",
    "url = 'https://www.cathaybk.com.tw/cathaybk/card/card/notice/notice_10.asp'\n",
    "#url = 'https://www.cathaybk.com.tw/cathaybk/card/card/notice/notice_11.asp'\n",
    "res = requests.get(url)\n",
    "res.encoding = 'big5'\n",
    "soup = BeautifulSoup(res.text)\n",
    "for target in soup.select('div ol'):\n",
    "    #for lis in target:\n",
    "        #print lis\n",
    "for target2 in soup.select('div p'):\n",
    "    for ps in target2:\n",
    "        print ps\n",
    "\n",
    "\n"
   ]
  },
  {
   "cell_type": "code",
   "execution_count": null,
   "metadata": {
    "collapsed": true
   },
   "outputs": [],
   "source": [
    "if('.asp' or '.tw' or '.html' in Target):\n",
    "        pass\n",
    "    else:\n",
    "        print Target"
   ]
  },
  {
   "cell_type": "code",
   "execution_count": 4,
   "metadata": {
    "collapsed": false
   },
   "outputs": [
    {
     "name": "stdout",
     "output_type": "stream",
     "text": [
      "{\n",
      "  \"Q\": \"用卡須知\", \n",
      "  \"A\": \"收到卡片後，立即簽名於卡片背面之簽名欄內，以確保持卡人使用權益及安全。卡片限持卡會員本人使用，不得借予他人使用。一經發現卡片非持卡人使用，本行或特約商店得立即沒收此卡。憑卡在貼有國際信用卡標誌之特約店消費，或郵購特約店，接受以VISA卡、MasterCard、JCB卡或聯合信用卡簽帳消費者。各國際組織提供之機上免稅商品刷卡限額及規定如下：VISA、MasterCard、JCB，每卡最大額度為NT$8,000。簽帳前請先確立消費意願，並仔細核對卡號與消費金額，始可簽名於簽帳單或告知商店您的信用卡資料(如郵購、預約旅館時)。簽帳單之簽名必須與卡片簽名一致以便核對，簽帳後記得拿回卡片。請勿在空白特約店簽帳單上簽名，以免遭致損失。簽帳消費後，暫時無須付款，本行將依您的帳單截止日(印於每月對帳單上)，計算當月帳務資料，並列印您的信用卡每月對帳單，繳款期限為結帳日再加16天，您可有充裕時間繳款。如您在最後繳款期限前7天仍未收到對帳單，請立刻撥打客服專線：(02)2383-1000，我們會儘速補寄給您，若逾期未繳，下月會產生違約金與循環信用利息，請特別注意！若您於當期繳款截止日前，對帳單所載事項有疑義，得檢具理由及本行要求之證明文件(如簽帳單或退款單收執聯等)通知單或請求本行向收單機構調閱簽帳單或退款單，或請求就該筆交易依各信用卡組織之作業規定，向收單機構或特約商店、辦理預借現金機構主張扣款，並得就該筆交易暫停付款。若您未依前項約定通知本行者，推定帳單所載事項無錯誤。若調出之簽帳單確為您的消費，則您需負擔調閱手續費每筆簽帳單NT$100(白金卡免收)請隨時注意店員刷卡動作，並防止不肖商店盜錄您的信用卡資料，以保障您的權益。簽帳超過全戶信用額度，或當筆簽帳金額超過該商店之應授權金額或於短時間消費次數過於頻繁時，商店須先以電話向本行授權部門做授權，本行授權人員與持卡會員核對身份，確定是否為持卡會員本人，以確保持卡會員權益。簽單上有分大、小寫金額，請仔細核對二種金額必須相符，否則以大寫金額為準。使用國際信用卡時請特別注意以下事項:預約消費時(如訂房、訂貨、租車等)應確定意願，如須取消，應完成必要手續並取得證明以保護您的權益，例如取消訂房，應取得\\\"取消號碼\\\"(CANCELLATIONCODE)或旅館之書面證明，以免將來發生爭議、被收取一日房間費用作為違約金時，無申訴憑據。本著誠信原則，確認消費與金額，依國際信用卡慣例，結帳時漏列之帳款，商店有權依消費事實向發卡銀行請款。國外消費時的簽單，請注意貨幣別是否清楚，否則日幣寫成美金就不划算了！國外消費有習慣請持卡人自行填寫小費與合計欄金額，請注意填寫，以免產生麻煩。預借現金密碼請您熟記並與卡片分開保管，以免影響您的權益。(當您需要使用密碼時，請電:（02）2383-1000洽詢)當您在國外簽帳消費後，該帳款會依各信用卡國際組織依約所列之交易結匯日匯率直接換算為新臺幣或約定結付外幣，加計本行應向各該國際組織給付之手續費及本行以交易金額百分之0.5計算之國外交易服務費後結付。因市場匯率波動，故特約商店請款當日匯率與您簽帳消費當日之匯率可能不同。(國外交易手續費目前費率為交易金額之0.8%~1%，信用卡國際組織收取之費率可能隨時變更，並詳載於信用卡帳單或銀行網站)。\", \n",
      "  \"class\": \"complex\", \n",
      "  \"bank\": \"taishin\"\n",
      "}\n",
      "{\n",
      "  \"Q\": \"關於循環信用\", \n",
      "  \"A\": \"什麼是\\\"循環信用，彈性繳款\\\"？\\\"循環信用，彈性繳款”是方便持卡人提前享受、延後付款的一種信用卡理財方式，讓持卡人在自己的信用卡額度範圍內，分月繳付消費金額。持卡人免任何申請手續，每月僅須繳足最低應繳款項，即自動進入循環信用開始計算利息，減輕還款壓力。關於「每期最低應繳金額」、「循環信用利息」及「延滯繳款違約金」計算方式，請參閱本行信用卡約定條款第十五條。\", \n",
      "  \"class\": \"complex\", \n",
      "  \"bank\": \"taishin\"\n",
      "}\n",
      "{\n",
      "  \"Q\": \"調整信用額度\", \n",
      "  \"A\": \"申請調整額度:持卡人可向本行申請調高或降低信用額度，各卡別目前無最低信用額度之限制，惟降低信用額度後，無法再行調回原來的信用額度；如果您需要較高額度時可以再次提出申請，請提供不同於申請時之收入證明文件，例如：最近一期扣繳憑單影本、薪資單影本等，提供愈完整之資料，可核發愈高之額度。請將收入證明文件親送或郵寄至本行信用卡部，註明需要調整額度及會員姓名、身分證字號或卡號。機動調整:如您為了出國或其他特殊理由，臨時需要較高額度，請儘早通知本行，本行會根據您以往的消費及繳款紀錄予以臨時調高額度。調整審核標準:本行將依您所提供之文件、持卡時間、消費紀錄、付款紀錄、職業及居住之穩定性....等，綜合判斷調整與否。※您如有本行2張以上之信用卡（正卡、附卡及所有卡別）均共同使用同一信用額度。\", \n",
      "  \"class\": \"complex\", \n",
      "  \"bank\": \"taishin\"\n",
      "}\n",
      "{\n",
      "  \"Q\": \"卡片保管及掛失\", \n",
      "  \"A\": \"如何保護您的信用卡？請勿刮傷卡片背面磁條。請妥善保存卡片，避免接近磁場（如馬達、微波爐、電冰箱、電磁爐）及高溫場所；請勿摺疊卡片。如何處理到期的信用卡？年度自動更新換卡，卡片到期當月，本行自動製發新卡，並寄發給持卡會員，會員收到新卡（舊卡號）在背面簽名欄簽上姓名及開卡後即可開始使用新卡，並立即把舊卡剪斷作廢。如何處理損毀的信用卡？信用卡毀損時，請您致電(02)2383-1000由專員為您處理。如何處理遺失的信用卡？1.國內請立即來電：(02)2383-1000或以相當之方法通知本行，並於受本行通知之日起三日內向當地警察機關報案並以書面補行通知本行。2.國外(1)請撥回本行或撥各國際組織緊急支援電話：VISA1-410-581-9994(對方付費電話)，MasterCard1-800-307-7309(美國境內免費服務電話)，1-636-722-7111(美國境外對方付費電話)，JCB(02)2531-0088或請逕向各地JCBPLAZA(2)或至當地國際組織信用卡會員銀行辦理書面掛失，(3)回國立即至本行補辦書面掛失手續以保障您的權益，(4)掛失費每卡NT$200，如需緊急取得補發卡，請於電話掛失時一併告知(一旦表示要緊急補發則不接受取消)(6)緊急替代卡申請費用：VISA每卡NT$4,500，MasterCard每卡NT$2,500，JCB每卡NT$2,000，白金卡及金卡及商務卡免費緊急補發之緊急替代卡其功能僅限一般簽帳，無法預借現金及撥打電話，且其效期較短，請您回國後，務必與本行客服連絡，將緊急替代卡剪斷寄回。3.正卡辦理掛失停用手續者，如不再補發新卡，其相關附卡應同時停止使用並交回本行。如為附卡遺失，僅需辦理附卡掛失手續，正卡仍可繼續使用\", \n",
      "  \"class\": \"complex\", \n",
      "  \"bank\": \"taishin\"\n",
      "}\n",
      "{\n",
      "  \"Q\": \"疑問帳款處理\", \n",
      "  \"A\": \"您於當期繳款截止日前，如就對帳單上所載事項有疑義，得檢具理由及本行要求之相關證明文件（如簽帳單、退款單收執聯及申訴函等）通知本行；或請求本行向收單機構調閱簽帳單或退款單。您未於當期繳款截止日前通知本行，視為對帳單上所載事項無錯誤。因發生疑義而暫停付款之帳款，如經本行證明係您無誤或因非可歸責於本行之事由而不得扣款時，您於收到本行通知後應立即繳付之，並自原繳款期限之次日起，依循環信用利率計付利息予本行。 \", \n",
      "  \"class\": \"complex\", \n",
      "  \"bank\": \"taishin\"\n",
      "}\n",
      "{\n",
      "  \"Q\": \"申請清償證明\", \n",
      "  \"A\": \"如您需要本行開立清償證明，歡迎洽詢本行客服專線(02)2383-1000（第二次申請開始，每次需酌收工本費一份NT$200元）\", \n",
      "  \"class\": \"complex\", \n",
      "  \"bank\": \"taishin\"\n",
      "}\n",
      "{\n",
      "  \"Q\": \"簽帳注意事項\", \n",
      "  \"A\": \"簽帳前：簽帳消費時，請勿讓信用卡離開您的視線範圍，以避免遭盜刷或誤刷。確實核對簽帳單上的卡號、簽帳金額、消費總金額、日期、消費幣值等資料是否正確。帳單簽名須與信用卡背面簽名式樣相同。簽帳後：請妥善保留簽帳單存根聯，以利每月對帳使用。確認確實已取回信用卡與簽帳單存根聯。如遇修改刷卡金額或取消刷卡交易時，需確認簽帳單每聯已逐一更改或簽帳單已全部撕毀作廢，並向商店索取銷貨退款單，做為日後產生糾紛或對帳使用。當您在國外簽帳消費後，該帳款會依各信用卡國際組織依約所列之交易結匯日匯率直接換算為新臺幣或約定結付外幣，加計本行應向各該國際組織給付之手續費及本行以交易金額百分之0.5計算之國外交易服務費後結付。因市場匯率波動，故特約商店請款當日匯率與您簽帳消費當日之匯率可能不同。(國外交易手續費目前費率為交易金額之0.8%~1%，信用卡國際組織收取之費率可能隨時變更，並詳載於信用卡帳單或銀行網站)。預約消費時（如訂房、訂貨、租車等）應確定意願，如須取消，應完成必要手續並取得證明以保護您的權益。例如取消訂房，應取得〝取消號碼〞(CANCELLATIONCODE)或旅館之書面證明，以免將來發生爭議、被收取一日房間費用作為違約金時，無申訴憑據。郵購或網路購物時，請您慎選較知名、已營運相當時間之企業或與知名金融機構合作的網站作為您線上購物的主要對象，也請您務必保存郵購契約書或列印網路訂購單。若您的月結單出現不明消費時，亦請您來電客服中心，我們將會儘快為您處理。簽帳消費步驟：當您決定簽帳消費時，將信用卡交付給服務人員刷卡，請儘量避免信用卡離開您的視線。(step1)確實核對簽帳單上的卡號、簽帳金額、消費總金額、日期、消費幣值等資料是否正確。(step2)確認無誤即可於簽帳單上簽名，簽名式樣需與信用卡背面簽名式樣相同。(step3)取回信用卡及簽帳單存根聯。(step4)請妥善保留簽帳單存根聯，以利每月對帳使用。當您的卡片受損無法順利刷卡時，可請特約商店人員以電話向簽約銀行查詢授權號碼，並請您即刻告知本行客服人員換發新卡。\", \n",
      "  \"class\": \"complex\", \n",
      "  \"bank\": \"taishin\"\n",
      "}\n",
      "{\n",
      "  \"Q\": \"特殊簽帳方式交易\", \n",
      "  \"A\": \"飯店訂房當您完成訂房作業並提供卡號後，務必請飯店提供訂房確認代碼(ReservationConfirmationCode)，以確認您的訂房作業完成。如須取消訂房，請於雙方約定期限內完成必要之取消手續，並取得證明文件或取消訂房代碼(CancellationCode)。購買機票當您使用信用卡購買機票時，航空公司或旅行社會先請您提供信用卡卡號作為信用證明。若您取消部份或全部航程，請索取退款證明，以避免日後之糾紛。刷卡租車租車時，商店會先請您預刷租車費用；當您還車時，請您確認費用總額，並索取消費明細，同時，租車公司人員會在消費明細單或証明文件上簽名，證明您所租的車已交還租車公司。另您於租車期間使用車輛時所產生之費用，如停車費或罰單等，租車公司將於日後的帳單中索取款項，請您於用車時務必謹慎小心。郵購或網路購物請您慎選較知名、已營運相當時間之企業或與知名金融機構合作的網站作為您線上購物的主要對象，也請您務必保存郵購契約書或列印網路訂購單。若您的月結單出現不明消費時，亦請您來電客服中心，我們將會儘快為您處理。\", \n",
      "  \"class\": \"complex\", \n",
      "  \"bank\": \"taishin\"\n",
      "}\n",
      "{\n",
      "  \"Q\": \"繳款方式\", \n",
      "  \"A\": \"為了方便您繳交信用卡帳款，本行特別提供多種付款方式，讓您在每月繳款截止日前依個人狀況需要輕鬆繳款。不同因實務作業不同，入帳時點會有所差異。一、新臺幣帳款：1.自動扣繳：持卡人可自行指定國泰世華銀行或其他代理收款銀行之活存帳戶、郵局存簿或劃撥帳號自動扣繳信用卡帳款，本行系統將於每月繳款截止日當天進行扣款，扣款日遇假日則順延至次一營業日。如存款不足，使用國泰世華銀行活存帳戶扣款者，帳戶餘額將扣抵至零元，使用本行以外行庫扣款者，將不代為扣款，因故未扣帳成功者，請持對帳單至本行各分行、郵局櫃檯繳款或利用ATM自動提款機轉帳繳款。申請方式：＊以本行帳戶扣繳：請來電客服(02)2383-1000為您線上設定，或於本行網頁上下載2.自動櫃員機(ATM)轉帳：您可利用本行或他行金融卡在貼有自動化服務跨行轉帳櫃員機。附註：於銀行營業日下午3:30前轉帳者，此筆帳款將於次一營業日入帳。使用自動櫃員機(ATM)跨行轉帳繳款需負擔NT$15手續費。請務必留存自動櫃員機(ATM)轉帳明細表，以備日後查詢之用。如您使用網路銀行轉帳，轉帳帳號同自動櫃員機(ATM)轉帳輸入方式。使用身分證字號於ATM轉帳時，請將第一位英文字轉換成二位數字。外國人使用統一證號於ATM轉帳時，請輸入2665+統一證號(A：01，B：02…)，共16碼；使用西元出生年月日轉帳時，請輸入2667+西元出生年月日(8碼)+英文姓的前2碼(A：01，B：02…)，共16碼。3.存款機繳款：在國泰世華存款機插入本行信用卡或金融卡,操作方式如下:步驟1：1-1插入為『金融卡』：請選擇：存款交易；1-2插入為『信用卡』：請選擇：信用卡交易；1-3插入為『COMBO卡』﹕請直接至步驟2步驟2：請選擇『本行信用卡繳款』→確認個人銷帳ID或卡號是否正確→輸入繳款金額→放入鈔券→確認無誤後即完成。4、網路銀行繳款：若您為本行存款戶，可登入本行網路銀行MyBank(www.mybank.com.tw)5.活期帳戶繳款：您可使用本人任一銀行之活期性存款帳戶繳款(跨行轉帳每筆交易收取手續費新臺幣10元)。6、銀行櫃檯代收：持本行信用卡對帳單之全行代理收款傳票，可直接在本行全台各分行或本行指定之各代理收款行庫櫃檯繳款。※99年7月30日起可至全國農業金庫暨全國農漁會信用部臨櫃繳款。註：如您利用他行代收、郵局代收或劃撥繳款，因作業差異，有時會有延遲入帳的情形發生，為免除您的困擾，請多利用本行自動轉帳扣款。7、便利商店代收：您當期應繳總額在2萬元（含）以內，即可持本行信用卡對帳單至鄰近便利商店繳款，提供您更便利的。※可代收之便利商店以信用卡對帳單所列之商店為準※本行與萊爾富LIFE-ET/7-11ibon/全家FamiPort合作提供補印信用卡繳款單服務8、郵局匯款/劃撥：您可持對帳單上之全行代理收款傳票直接至全省郵局繳款；若無全行代理收款傳票亦可利用劃撥單填寫。戶名：國泰世華商業銀行信用卡作業部，郵局帳號：19567459，並請於劃撥單上註明正卡持卡人之身分證字號、聯絡電話，以利入帳。註：如您利用他行代收、郵局代收或劃撥繳款，因作業差異，有時會有延遲入帳的情形發生，為免除您的困擾，請多利用本行自動轉帳扣款。9、支票繳款：請開具抬頭為「國泰世華商業銀行信用卡作業部」之禁止背書轉讓支票與當期帳單下方之\\\"全行代理收款傳票\\\"，以掛號方式郵寄至「台北郵局11961號信箱」，並於支票背面寫明欲繳款之身分證字號。如以一張支票繳付一個以上之信用卡帳戶，請務必分別附上帳單下方之\\\"全行代理收款傳票\\\"，並分別註明身分證字號及金額，以便準確入帳。同時為避免因交換作業延誤入帳時間，請於繳款截止日前七個工作天寄達。10、e-Bill全國繳費網：您可使用任一銀行晶片金融卡於e-Bill全國繳費網https://ebill.ba.org.tw轉帳繳交本行信用卡款，每筆交易收取手續費新台幣10元。使用本行晶片金融卡轉帳繳款，轉帳限額依本行晶片金融卡規定，每筆交易金額最多五萬元，每日最高十萬元，每月累計最高二十萬元，且與網路銀行非約定轉帳限額合併計算。11、電話語音繳款：已申請本行理財密碼之卡友，可使用電話語音轉帳繳交本行信用卡款。電話語音繳款流程如下：0800-818001→信用卡業務→輸入身分證字號→輸入理財密碼→繳付信用卡→輸入轉出之國泰世華銀行帳號→輸入繳款金額→完成繳款。12、跨行匯款繳款：您可至各金融行庫填寫匯款單，惟匯款手續費需由匯款人自行負擔，手續費金額依各金融機構規定。為保障您的權益，請保留繳款收據，以利查詢。收款人戶名：持卡人姓名收款人帳號：1.本國人個人卡:778+正卡人身分證字號(含英文字母A=01,B=02…以此類推)共14位數2.本國人商務卡:779+身分證字號(含英文字母A=01,B=02…以此類推)共14位數收款行：「國泰世華商業銀行台北分行」二、外幣帳款：持卡人僅限以國泰世華銀行外匯存款帳戶(DBU)自動扣繳信用卡外幣帳款，本行系統將於每月繳款截止日當天進行扣款，如扣款日遇假日則順延至次一營業日。若外幣存款不足時，外匯帳戶餘額將扣抵至零元。如您已申請本行新臺幣帳戶自動換匯服務者，不足額之外幣帳款將依扣款當日之「即期匯率」於您指定之帳戶進行換匯服務，若新臺幣帳戶餘額不足兌換等值外幣帳款之差額時，則不進行換匯服務。註：換匯交易金額需依中央銀行規定辦理（換匯金額不可大於等值新臺幣５０萬元）。\", \n",
      "  \"class\": \"complex\", \n",
      "  \"bank\": \"taishin\"\n",
      "}\n",
      "{\n",
      "  \"Q\": \"超商補印繳款單\", \n",
      "  \"A\": \"★注意事項：您可自行設定繳款金額，惟不得低於最低應繳金額，如本期應繳總金額不足新臺幣1,000元時，則需全數繳納；每期帳單於超商單筆繳款金額不得超過新臺幣20,000元。同一日內不得繳交二筆(含)以上相同金額之繳款單。每期帳單於各家超商補印以3次為限。您務必於繳款截止日前繳足最低應繳金額，如有逾期繳款或未繳足最低應繳金額，下期帳單將加計逾期循環息及違約金。國泰世華銀行將於您繳款完成後約2-3個營業日銷帳，若有帳款問題，請洽國泰世華銀行客服專線(02)2383-1000查詢。 \", \n",
      "  \"class\": \"complex\", \n",
      "  \"bank\": \"taishin\"\n",
      "}\n"
     ]
    }
   ],
   "source": [
    "import requests\n",
    "from bs4 import BeautifulSoup                #國泰世華----用卡及繳款須知(共11題)-購買商品或服務應注意事項(剩10題)(jSon檔存檔完成)\n",
    "import re\n",
    "import json\n",
    "import codecs\n",
    "\n",
    "Q = []\n",
    "A = []\n",
    "for i in range(1,12):\n",
    "    url = 'https://www.cathaybk.com.tw/cathaybk/card/card/notice/notice_{}'.format(i) + '.asp'  \n",
    "    #print url\n",
    "    res = requests.get(url)\n",
    "    res.encoding = 'big5'   #對整個內容進行編碼\n",
    "    soup = BeautifulSoup(res.text)\n",
    "#    print soup\n",
    "    ques = soup.select('div .t15_org_b')[0]       #問題\n",
    "    question = ques.text.encode('utf-8')\n",
    "    Q.append(question)\n",
    "#    print type(question)\n",
    "    target = soup.select('.notice_content')[0]        #題目\n",
    "    excepts = re.findall('\\<span class\\=\\\"t15\\_org\\_b\\\"\\>(.*)\\<\\/span\\>',target.encode('utf-8'))       #找出問題的標題\n",
    "    title = excepts[0]      #型態為string\n",
    "    Target = target.text.encode('utf-8')\n",
    "    #print title\n",
    "    Content = ''.join(Target.split(title))\n",
    "    answer = ''.join(Content.split()).replace('使用權益及安全','使用權益及安全。')\\\n",
    "    .replace('使用國際信用卡時請特別注意','使用國際信用卡時請特別注意以下事項:')\\\n",
    "    .replace('申請調整額度','申請調整額度:').replace('機動調整','機動調整:').replace('調整審核標準','調整審核標準:')\\\n",
    "    .replace('請撥回本行或撥各國際組織緊急支援電話','(1)請撥回本行或撥各國際組織緊急支援電話：')\\\n",
    "    .replace('電話)','電話)，').replace('或至當地國際組織信用卡會員銀行辦理書面掛失','(2)或至當地國際組織信用卡會員銀行辦理書面掛失，')\\\n",
    "    .replace('回國立即至本行補辦書面掛失手續以保障您的權益','(3)回國立即至本行補辦書面掛失手續以保障您的權益，')\\\n",
    "    .replace('掛失費每卡NT$200','(4)掛失費每卡NT$200，')\\\n",
    "    .replace('如需緊急取得補發卡，請於電話掛失時一併告知 ( 一旦表示要緊急補發則不接受取消 )','(5)如需緊急取得補發卡，請於電話掛失時一併告知 ( 一旦表示要緊急補發則不接受取消 )，')\\\n",
    "    .replace('緊急替代卡申請費用：','(6)緊急替代卡申請費用：').replace('NT$4,500','NT$4,500，')\\\n",
    "    .replace('NT$2,500','NT$2,500，').replace('NT$2,000','NT$2,000，').replace('↓確實','(step1)確實').replace('↓確認','(step2)確認')\\\n",
    "    .replace('↓取回','(step3)取回').replace('↓請妥善','(step4)請妥善').replace('辦理信用卡自動扣繳繳卡費免出門便利又省時','')\\\n",
    "    .replace('，依下列圖示進行轉帳：','。').replace('附註','附註：').replace('，依下列步驟進行繳款：','')\n",
    "    A.append(answer)\n",
    "#    print type(answer)\n",
    "    \n",
    "del Q[1]\n",
    "del A[1]  \n",
    "j=6\n",
    "for all_q, all_a in zip(Q,A):\n",
    "#    print all_q, all_a\n",
    "    \n",
    "    y = {'bank':'cathaybk','class':'complex','Q':all_q,'A':all_a} #json格式\n",
    "        #key統一為bank:value自取  key統一為class:value統一請參考EXCEL  \n",
    "        #銀行名稱統一小寫英文，取完之後打在EXCEL上\n",
    "    \n",
    "    json_qa = json.dumps(y,ensure_ascii=False,indent=2,) #轉檔轉碼  \n",
    "    print json_qa   #print檢查一下\n",
    "                                                         \n",
    "    with codecs.open('C:/Users/vitacake/Desktop/cathay/complex/cathaybk_complex_{}.json'.format(j),'wb') as fout:   #這樣的寫法，最後就不需要f.close()\n",
    "        json.dump(y , fout)  #寫入檔案，並關檔\n",
    "    j += 1"
   ]
  },
  {
   "cell_type": "code",
   "execution_count": 114,
   "metadata": {
    "collapsed": false
   },
   "outputs": [
    {
     "name": "stdout",
     "output_type": "stream",
     "text": [
      "超商補印繳款單\n"
     ]
    }
   ],
   "source": [
    "    target = soup.select('.notice_content')[0]\n",
    "    excepts = re.findall('\\<span class\\=\\\"t15\\_org\\_b\\\"\\>(.*)\\<\\/span\\>',target.encode('utf-8'))       #找出問題的標題\n",
    "    title = excepts[0]      #型態為string\n",
    "    Target = target.text.encode('utf-8')\n",
    "    #print title\n",
    "    Content = ''.join(Target.split(title))\n",
    "    if('\\r' in repr(Content)):\n",
    "        pass\n",
    "    elif('\\t' in repr(Content)):\n",
    "        pass\n",
    "    else:\n",
    "        print Content\n",
    "#    print repr(Content)"
   ]
  },
  {
   "cell_type": "code",
   "execution_count": 5,
   "metadata": {
    "collapsed": false
   },
   "outputs": [
    {
     "name": "stdout",
     "output_type": "stream",
     "text": [
      "{\n",
      "  \"Q\": \"MyBill輕鬆繳提供什麼樣的服務?\", \n",
      "  \"A\": \"MyBill輕鬆繳是生活帳單網路繳費平台，提供客戶繳納各種費用服務，並依項目提供不同的繳款方式（包括本行信用卡、本行活期帳戶及晶片金融卡3種繳費方式）共可繳百種費用，讓您不出大門就可輕鬆完成網路繳費。\", \n",
      "  \"class\": \"complex\", \n",
      "  \"bank\": \"cathaybk\"\n",
      "}\n",
      "{\n",
      "  \"Q\": \"在MyBill輕鬆繳可繳那些帳單?\", \n",
      "  \"A\": \"MyBill輕鬆繳提供5大繳費類別，達百種繳費項目，內容涵蓋主要生活帳單，包括電費、台北市水費用、中華電信市話及電信費、停車費、信用卡帳單等，詳細可繳的費用，請參考輕鬆繳費用清單。未來將陸續導入新種費用繳費服務，將會不定期公告於MyBill輕鬆繳首頁「繳費好康訊息」，敬請期待。\", \n",
      "  \"class\": \"complex\", \n",
      "  \"bank\": \"cathaybk\"\n",
      "}\n",
      "{\n",
      "  \"Q\": \"透過MyBill輕鬆繳繳費有何好處呢?\", \n",
      "  \"A\": \"MyBill輕鬆繳將生活帳單分類，讓您輕鬆選取繳費項目，隨時透過電腦進行繳費，沒有時間及空間的限制，本行信用卡繳費不需再登入以及輸入密碼，讓繳費變得更方便!\", \n",
      "  \"class\": \"complex\", \n",
      "  \"bank\": \"cathaybk\"\n",
      "}\n",
      "{\n",
      "  \"Q\": \"在MyBill輕鬆繳繳費，需要付手續費嗎?\", \n",
      "  \"A\": \"為讓您能夠充份體驗信用卡網路繳費的方便，所以上線初期信用卡繳費0手續費，不過若您使用活期帳戶或晶片金融卡轉帳，則手續費最高需付新台幣15元。\", \n",
      "  \"class\": \"complex\", \n",
      "  \"bank\": \"cathaybk\"\n",
      "}\n",
      "{\n",
      "  \"Q\": \"那些繳費項目可使用信用卡網路繳費?\", \n",
      "  \"A\": \"在MyBill輕鬆繳您現在可以使用信用卡繳台電、北水及中華電信三項費用。\", \n",
      "  \"class\": \"complex\", \n",
      "  \"bank\": \"cathaybk\"\n",
      "}\n",
      "{\n",
      "  \"Q\": \"非國泰世華銀行信用卡持卡人可用MyBill輕鬆繳信用卡網\", \n",
      "  \"A\": \"目前信用卡網路繳費服務只提供給本行持卡人使用。若您想使用信用卡網路繳費服務的話，歡迎您來申辦本行信用卡，就可享受輕鬆便利繳費服務，或您也可以改使用活期帳戶及晶片金融卡轉帳繳費。\", \n",
      "  \"class\": \"complex\", \n",
      "  \"bank\": \"cathaybk\"\n",
      "}\n",
      "{\n",
      "  \"Q\": \"在MyBill輕鬆繳繳費使用信用卡繳費需輸入那些資料呢?\", \n",
      "  \"A\": \"請輸入本行持卡人身分證字號後五碼、卡號、卡片有效年月及卡片背面簽名欄位末3碼，不過此服務商務卡、Debit卡及i刷金融卡無法適用。\", \n",
      "  \"class\": \"complex\", \n",
      "  \"bank\": \"cathaybk\"\n",
      "}\n",
      "{\n",
      "  \"Q\": \"為什麼信用卡繳費要多輸入持卡人身分證字號後五碼呢?\", \n",
      "  \"A\": \"這是為了保障持卡人用卡交易安全，所以才需增加輸入持卡人身分證字號後五碼欄位，還請您配合輸入資料來完成繳費。\", \n",
      "  \"class\": \"complex\", \n",
      "  \"bank\": \"cathaybk\"\n",
      "}\n",
      "{\n",
      "  \"Q\": \"在MyBill輕鬆繳以信用卡網路繳費和約定公共事業費代扣繳有何不同呢?\", \n",
      "  \"A\": \"辦理約定代扣繳付帳單，待繳費用會每月固定從您指定的信用卡帳戶或存款帳戶直接扣款，是本行現行已提供的服務；為服務尚未辦理代扣繳或不方便辦理代扣繳的客戶，本行推出MyBill輕鬆繳信用卡網路繳費的貼心服務，不需事先提出申請，可以自由選擇繳費類別及繳費方式。\", \n",
      "  \"class\": \"complex\", \n",
      "  \"bank\": \"cathaybk\"\n",
      "}\n",
      "{\n",
      "  \"Q\": \"在MyBill輕鬆繳透過活期帳戶或晶片金融卡繳費，請問需要備妥那些東西呢?\", \n",
      "  \"A\": \"若您使用活期帳戶繳費，則請輸入本行MyBank個人網銀帳號及登入密碼。若您使用晶片金融卡繳費的話，則請自備讀卡機及晶片金融卡。\", \n",
      "  \"class\": \"complex\", \n",
      "  \"bank\": \"cathaybk\"\n",
      "}\n",
      "{\n",
      "  \"Q\": \"在MyBill輕鬆繳以信用卡繳費，要如何得知繳費是否已成功呢?\", \n",
      "  \"A\": \"網路刷卡繳費成功後，交易結果頁面會顯示繳費完成訊息﹔若您於本行留有Email聯絡方式，本行也會發送完成繳費Email通知。另外您也可以登入MyBank個人網銀中，查詢信用卡消費資料記錄。若仍有繳費問題，請您洽客服專線0800-818001﹔02-23831000。提醒您，於本行繳費完成僅代表本行完成扣款作業，實際帳單銷帳作業則由各事業機構處理，需時約1至3天，所以若有任何銷帳疑問，請洽您繳費帳單所屬事業機構。\", \n",
      "  \"class\": \"complex\", \n",
      "  \"bank\": \"cathaybk\"\n",
      "}\n",
      "{\n",
      "  \"Q\": \"請問透過信用卡網路繳費，還可取消此筆交易嗎?\", \n",
      "  \"A\": \"完成信用卡網路繳費後，是無法取消該筆交易，若對繳款明細有所疑問，請洽繳費所屬事業機構協助處理。\", \n",
      "  \"class\": \"complex\", \n",
      "  \"bank\": \"cathaybk\"\n",
      "}\n",
      "{\n",
      "  \"Q\": \"請問透過信用卡網路繳費，還有本行紅利積點點數累計及現金回饋嗎?\", \n",
      "  \"A\": \"信用卡網路繳費功能主要為提供本行卡友更優質貼心的服務，所以您使用信用卡網路繳費服務是無本行紅利積點點數累計及現金回饋。\", \n",
      "  \"class\": \"complex\", \n",
      "  \"bank\": \"cathaybk\"\n",
      "}\n",
      "{\n",
      "  \"Q\": \"於MyBill補印繳款單時，便利商店條碼區沒有顯示條碼，要怎麼辦?\", \n",
      "  \"A\": \"請分別下載安裝【條碼字型一】及【條碼字型二】，便利商店條碼區就會正常顯示。\", \n",
      "  \"class\": \"complex\", \n",
      "  \"bank\": \"cathaybk\"\n",
      "}\n"
     ]
    }
   ],
   "source": [
    "import requests\n",
    "from bs4 import BeautifulSoup as bs\n",
    "import json\n",
    "import codecs\n",
    "\n",
    "\n",
    "url ='https://www.cathaybk.com.tw/cathaybk/card/mybill/qa.asp'         #國泰世華----mybill(共14題)(json檔存檔完成)\n",
    "\n",
    "res = requests.get(url)\n",
    "soup = bs(res.text)\n",
    "j = 16\n",
    "for i in range(2,16):\n",
    "    target = soup.select('#sidebar{}'.format(i))\n",
    "    for Target in target:\n",
    "        question = Target.select('u')[0].text.replace('Q：'.decode('utf8'),'')\n",
    "        answer = Target.select('ul .children')[0].text.replace('A：'.decode('utf8'),'')\n",
    "        all_q = ''.join(question.split())\n",
    "        all_a = ''.join(answer.split())\n",
    "        \n",
    "        y = {'bank':'cathaybk','class':'complex','Q':all_q,'A':all_a} #json格式\n",
    "        #key統一為bank:value自取  key統一為class:value統一請參考EXCEL  \n",
    "        #銀行名稱統一小寫英文，取完之後打在EXCEL上\n",
    "    \n",
    "        json_qa = json.dumps(y,ensure_ascii=False,indent=2) #轉檔轉碼  \n",
    "        print json_qa   #print檢查一下\n",
    "                                                         \n",
    "        with codecs.open('C:/Users/vitacake/Desktop/cathay/complex/cathaybk_complex_{}.json'.format(j),'wb',encoding='utf-8') as fout: \n",
    "            json.dump(y , fout)  #寫入檔案，並關檔\n",
    "        j += 1\n",
    "        \n",
    "        \n"
   ]
  },
  {
   "cell_type": "code",
   "execution_count": 37,
   "metadata": {
    "collapsed": false
   },
   "outputs": [
    {
     "name": "stdout",
     "output_type": "stream",
     "text": [
      "'\\xe4\\xb8\\x8b\\xe8\\xa1\\xa8\\xe7\\x82\\xba\\xe5\\x85\\xa9\\xe8\\x80\\x85\\xe4\\xb9\\x8b\\xe6\\xaf\\x94\\xe8\\xbc\\x83\\xef\\xbc\\x9a'\n"
     ]
    }
   ],
   "source": [
    "b = '下表為兩者之比較：'\n",
    "print repr(b)"
   ]
  },
  {
   "cell_type": "code",
   "execution_count": null,
   "metadata": {
    "collapsed": true
   },
   "outputs": [],
   "source": []
  }
 ],
 "metadata": {
  "kernelspec": {
   "display_name": "Python 2",
   "language": "python",
   "name": "python2"
  },
  "language_info": {
   "codemirror_mode": {
    "name": "ipython",
    "version": 2
   },
   "file_extension": ".py",
   "mimetype": "text/x-python",
   "name": "python",
   "nbconvert_exporter": "python",
   "pygments_lexer": "ipython2",
   "version": "2.7.11"
  }
 },
 "nbformat": 4,
 "nbformat_minor": 0
}
